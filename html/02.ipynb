{
 "cells": [
  {
   "cell_type": "markdown",
   "metadata": {
    "lc_cell_meme": {
     "current": "fe210874-deff-11e7-9edb-0242ac110002",
     "history": [],
     "next": "fe2109dc-deff-11e7-9edb-0242ac110002",
     "previous": null
    }
   },
   "source": [
    "# About: AWS操作用ツールのインストール\n",
    "\n",
    "----\n",
    "\n",
    "AWSをJupyter Notebook環境からコントロールできるよう、ツールをインストールします。"
   ]
  },
  {
   "cell_type": "markdown",
   "metadata": {
    "lc_cell_meme": {
     "current": "fe2109dc-deff-11e7-9edb-0242ac110002",
     "history": [],
     "next": "fe210b08-deff-11e7-9edb-0242ac110002",
     "previous": "fe210874-deff-11e7-9edb-0242ac110002"
    }
   },
   "source": [
    "## *Operation Note*\n",
    "\n",
    "*This is a cell for your own recording. ここに経緯を記述*"
   ]
  },
  {
   "cell_type": "markdown",
   "metadata": {
    "lc_cell_meme": {
     "current": "fe210b08-deff-11e7-9edb-0242ac110002",
     "history": [],
     "next": "fe210c2a-deff-11e7-9edb-0242ac110002",
     "previous": "fe2109dc-deff-11e7-9edb-0242ac110002"
    }
   },
   "source": [
    "# AWS CLIのインストール\n",
    "\n",
    "Jupyter NotebookからAWSに対する操作は、AWS CLI https://aws.amazon.com/jp/cli/ を用いて実施します。\n",
    "\n",
    "ここでは、AWS CLIに必要なパッケージ(`groff`)をインストールした後、`awscli`パッケージをインストールしています。\n",
    "\n",
    "> Notebook(Python Kernel)中では、 `!` を行頭に書くことで、Shellコマンドを実行することができます。"
   ]
  },
  {
   "cell_type": "code",
   "execution_count": null,
   "metadata": {
    "lc_cell_meme": {
     "current": "fe210c2a-deff-11e7-9edb-0242ac110002",
     "history": [],
     "next": "fe210d42-deff-11e7-9edb-0242ac110002",
     "previous": "fe210b08-deff-11e7-9edb-0242ac110002"
    },
    "scrolled": true
   },
   "outputs": [],
   "source": [
    "!sudo apt-get update && sudo apt-get install -y groff\n",
    "!sudo pip install awscli"
   ]
  },
  {
   "cell_type": "markdown",
   "metadata": {
    "lc_cell_meme": {
     "current": "fe210d42-deff-11e7-9edb-0242ac110002",
     "history": [],
     "next": "fe210e50-deff-11e7-9edb-0242ac110002",
     "previous": "fe210c2a-deff-11e7-9edb-0242ac110002"
    }
   },
   "source": [
    "コマンド名は `aws` です。インストールされていることを確認します。"
   ]
  },
  {
   "cell_type": "code",
   "execution_count": null,
   "metadata": {
    "lc_cell_meme": {
     "current": "fe210e50-deff-11e7-9edb-0242ac110002",
     "history": [],
     "next": "fe210f68-deff-11e7-9edb-0242ac110002",
     "previous": "fe210d42-deff-11e7-9edb-0242ac110002"
    }
   },
   "outputs": [],
   "source": [
    "!which aws"
   ]
  },
  {
   "cell_type": "markdown",
   "metadata": {
    "lc_cell_meme": {
     "current": "fe210f68-deff-11e7-9edb-0242ac110002",
     "history": [],
     "next": "fe211076-deff-11e7-9edb-0242ac110002",
     "previous": "fe210e50-deff-11e7-9edb-0242ac110002"
    }
   },
   "source": [
    "使い方は `help` サブコマンドで参照することができます。"
   ]
  },
  {
   "cell_type": "code",
   "execution_count": null,
   "metadata": {
    "lc_cell_meme": {
     "current": "fe211076-deff-11e7-9edb-0242ac110002",
     "history": [],
     "next": "fe211184-deff-11e7-9edb-0242ac110002",
     "previous": "fe210f68-deff-11e7-9edb-0242ac110002"
    }
   },
   "outputs": [],
   "source": [
    "!aws help"
   ]
  },
  {
   "cell_type": "markdown",
   "metadata": {
    "lc_cell_meme": {
     "current": "fe211184-deff-11e7-9edb-0242ac110002",
     "history": [],
     "next": "fe211292-deff-11e7-9edb-0242ac110002",
     "previous": "fe211076-deff-11e7-9edb-0242ac110002"
    }
   },
   "source": [
    "# AWS CLIの設定\n"
   ]
  },
  {
   "cell_type": "markdown",
   "metadata": {
    "lc_cell_meme": {
     "current": "fe211292-deff-11e7-9edb-0242ac110002",
     "history": [],
     "next": "fe2113a0-deff-11e7-9edb-0242ac110002",
     "previous": "fe211184-deff-11e7-9edb-0242ac110002"
    }
   },
   "source": [
    "## Regionの設定\n",
    "\n",
    "AWS CLIに対しては、デフォルトの操作対象リージョンを設定することができます。\n",
    "ここでは例として、東京リージョン(ap-northeast-1)を使うことを、AWS CLIに対して設定します。"
   ]
  },
  {
   "cell_type": "code",
   "execution_count": null,
   "metadata": {
    "lc_cell_meme": {
     "current": "fe2113a0-deff-11e7-9edb-0242ac110002",
     "history": [],
     "next": "fe2114ae-deff-11e7-9edb-0242ac110002",
     "previous": "fe211292-deff-11e7-9edb-0242ac110002"
    }
   },
   "outputs": [],
   "source": [
    "target_region = 'ap-northeast-1'\n",
    "target_region"
   ]
  },
  {
   "cell_type": "markdown",
   "metadata": {
    "lc_cell_meme": {
     "current": "fe2114ae-deff-11e7-9edb-0242ac110002",
     "history": [],
     "next": "fe2115bc-deff-11e7-9edb-0242ac110002",
     "previous": "fe2113a0-deff-11e7-9edb-0242ac110002"
    }
   },
   "source": [
    "セルにはPythonコードを記述することができ、上記のように変数として各種環境に関する値を定義した上で、以下のようにその値をコマンドに与えることができます。"
   ]
  },
  {
   "cell_type": "code",
   "execution_count": null,
   "metadata": {
    "lc_cell_meme": {
     "current": "fe2115bc-deff-11e7-9edb-0242ac110002",
     "history": [],
     "next": "fe2116c0-deff-11e7-9edb-0242ac110002",
     "previous": "fe2114ae-deff-11e7-9edb-0242ac110002"
    }
   },
   "outputs": [],
   "source": [
    "!aws configure set default.region {target_region}"
   ]
  },
  {
   "cell_type": "markdown",
   "metadata": {
    "lc_cell_meme": {
     "current": "fe2116c0-deff-11e7-9edb-0242ac110002",
     "history": [],
     "next": "fe2117ce-deff-11e7-9edb-0242ac110002",
     "previous": "fe2115bc-deff-11e7-9edb-0242ac110002"
    }
   },
   "source": [
    "## Output formatの設定\n",
    "\n",
    "Output formatは、Notebook上のPythonコードでのパースしやすさを考慮し、JSONを利用します。人間が確認するためだけなら、text, tableなどでも問題ありません。用途によって使い分けてください。"
   ]
  },
  {
   "cell_type": "code",
   "execution_count": null,
   "metadata": {
    "lc_cell_meme": {
     "current": "fe2117ce-deff-11e7-9edb-0242ac110002",
     "history": [],
     "next": "fe2118e6-deff-11e7-9edb-0242ac110002",
     "previous": "fe2116c0-deff-11e7-9edb-0242ac110002"
    }
   },
   "outputs": [],
   "source": [
    "!aws configure set default.output json"
   ]
  },
  {
   "cell_type": "markdown",
   "metadata": {
    "lc_cell_meme": {
     "current": "fe2118e6-deff-11e7-9edb-0242ac110002",
     "history": [],
     "next": "fe2119f4-deff-11e7-9edb-0242ac110002",
     "previous": "fe2117ce-deff-11e7-9edb-0242ac110002"
    }
   },
   "source": [
    "## Credentialsの設定\n",
    "\n",
    "AWS CLIが、どのような認証情報をともなってAWS APIを呼び出すかを設定する必要があります。\n",
    "認証情報の設定方法は、利用される状況により異なります。"
   ]
  },
  {
   "cell_type": "markdown",
   "metadata": {
    "lc_cell_meme": {
     "current": "fe2119f4-deff-11e7-9edb-0242ac110002",
     "history": [],
     "next": "fe211b02-deff-11e7-9edb-0242ac110002",
     "previous": "fe2118e6-deff-11e7-9edb-0242ac110002"
    }
   },
   "source": [
    "### Access Key / Secret Keyを用いる場合\n",
    "\n",
    "認証情報の与え方として、AWS consoleから発行できるAccess Key, Secret Keyを用いる方法があります。\n",
    "コマンドに対する対話的な操作が必要ですから、JupyterのTerminal(treeページの[New] - [Terminal]から選択できます)から、 `aws configure` を実施してください。\n",
    "\n",
    "`aws configure` の実施例:\n",
    "\n",
    "```\n",
    "$ aws configure\n",
    "AWS Access Key ID [None]: (自身のアカウントのアクセスキー)\n",
    "AWS Secret Access Key [None]: (自身のアカウントのシークレットアクセスキー)\n",
    "Default region name [None]: (Enter)\n",
    "Default output format [None]: (Enter)\n",
    "```"
   ]
  },
  {
   "cell_type": "markdown",
   "metadata": {
    "lc_cell_meme": {
     "current": "fe211b02-deff-11e7-9edb-0242ac110002",
     "history": [],
     "next": "fe211c10-deff-11e7-9edb-0242ac110002",
     "previous": "fe2119f4-deff-11e7-9edb-0242ac110002"
    }
   },
   "source": [
    "### インスタンスロールを用いる場合\n",
    "\n",
    "このJupyter Notebook環境をAWS上のVMで動作させている場合、このVMにインスタンスロールを割り当てることで、AWS CLIには認証情報を与えずAWSのAPIにアクセスすることが可能です。\n"
   ]
  },
  {
   "cell_type": "markdown",
   "metadata": {
    "lc_cell_meme": {
     "current": "fe211c10-deff-11e7-9edb-0242ac110002",
     "history": [],
     "next": "fe211d1e-deff-11e7-9edb-0242ac110002",
     "previous": "fe211b02-deff-11e7-9edb-0242ac110002"
    }
   },
   "source": [
    "# AWS CLIの接続確認\n",
    "\n",
    "AWS CLIに必要な設定を与えたら、試しに、アカウントの属性値取得コマンドをAWS CLIにて実施してみます。"
   ]
  },
  {
   "cell_type": "markdown",
   "metadata": {
    "lc_cell_meme": {
     "current": "fe211d1e-deff-11e7-9edb-0242ac110002",
     "history": [],
     "next": "fe211e2c-deff-11e7-9edb-0242ac110002",
     "previous": "fe211c10-deff-11e7-9edb-0242ac110002"
    }
   },
   "source": [
    "\n",
    "> これが失敗する場合、(以下のタブ `Out[6]`のようになります)認証情報が正しく設定されていない可能性があります。"
   ]
  },
  {
   "cell_type": "code",
   "execution_count": null,
   "metadata": {
    "lc_cell_meme": {
     "current": "fe211e2c-deff-11e7-9edb-0242ac110002",
     "history": [],
     "next": "fe211f3a-deff-11e7-9edb-0242ac110002",
     "previous": "fe211d1e-deff-11e7-9edb-0242ac110002"
    },
    "pinned_outputs": [
     {
      "execution_count": 6,
      "outputs": [
       {
        "name": "stdout",
        "output_type": "stream",
        "text": "Unable to locate credentials. You can configure credentials by running \"aws configure\".\r\n"
       },
       {
        "ename": "RuntimeError",
        "evalue": "Unexpected exit code: -127",
        "output_type": "error",
        "traceback": [
         "\u001b[0;31m---------------------------------------------------------------------------\u001b[0m",
         "\u001b[0;31mRuntimeError\u001b[0m                              Traceback (most recent call last)",
         "\u001b[0;32m<ipython-input-12-9ac5695a6ceb>\u001b[0m in \u001b[0;36m<module>\u001b[0;34m()\u001b[0m\n\u001b[0;32m----> 1\u001b[0;31m \u001b[0mget_ipython\u001b[0m\u001b[0;34m(\u001b[0m\u001b[0;34m)\u001b[0m\u001b[0;34m.\u001b[0m\u001b[0msystem\u001b[0m\u001b[0;34m(\u001b[0m\u001b[0;34m'aws ec2 describe-account-attributes'\u001b[0m\u001b[0;34m)\u001b[0m\u001b[0;34m\u001b[0m\u001b[0m\n\u001b[0m",
         "\u001b[0;32m~/.ipython/profile_default/startup/10-custom-get_ipython_system.py\u001b[0m in \u001b[0;36m<lambda>\u001b[0;34m(x)\u001b[0m\n\u001b[1;32m      5\u001b[0m \u001b[0;34m\u001b[0m\u001b[0m\n\u001b[1;32m      6\u001b[0m \u001b[0msave_get_ipython_system\u001b[0m \u001b[0;34m=\u001b[0m \u001b[0mget_ipython\u001b[0m\u001b[0;34m(\u001b[0m\u001b[0;34m)\u001b[0m\u001b[0;34m.\u001b[0m\u001b[0msystem\u001b[0m\u001b[0;34m\u001b[0m\u001b[0m\n\u001b[0;32m----> 7\u001b[0;31m \u001b[0mget_ipython\u001b[0m\u001b[0;34m(\u001b[0m\u001b[0;34m)\u001b[0m\u001b[0;34m.\u001b[0m\u001b[0msystem\u001b[0m \u001b[0;34m=\u001b[0m \u001b[0;32mlambda\u001b[0m \u001b[0mx\u001b[0m\u001b[0;34m:\u001b[0m \u001b[0mget_ipython_system\u001b[0m\u001b[0;34m(\u001b[0m\u001b[0mx\u001b[0m\u001b[0;34m)\u001b[0m\u001b[0;34m\u001b[0m\u001b[0m\n\u001b[0m\u001b[1;32m      8\u001b[0m \u001b[0;34m\u001b[0m\u001b[0m\n\u001b[1;32m      9\u001b[0m \u001b[0;31m# interactiveshell.py's system_piped() function comment saids:\u001b[0m\u001b[0;34m\u001b[0m\u001b[0;34m\u001b[0m\u001b[0m\n",
         "\u001b[0;32m~/.ipython/profile_default/startup/10-custom-get_ipython_system.py\u001b[0m in \u001b[0;36mget_ipython_system\u001b[0;34m(cmd)\u001b[0m\n\u001b[1;32m     13\u001b[0m     \u001b[0msave_get_ipython_system\u001b[0m\u001b[0;34m(\u001b[0m\u001b[0mcmd\u001b[0m\u001b[0;34m)\u001b[0m\u001b[0;34m\u001b[0m\u001b[0m\n\u001b[1;32m     14\u001b[0m     \u001b[0;32mif\u001b[0m \u001b[0mget_ipython\u001b[0m\u001b[0;34m(\u001b[0m\u001b[0;34m)\u001b[0m\u001b[0;34m.\u001b[0m\u001b[0muser_ns\u001b[0m\u001b[0;34m[\u001b[0m\u001b[0;34m'_exit_code'\u001b[0m\u001b[0;34m]\u001b[0m \u001b[0;34m!=\u001b[0m \u001b[0;36m0\u001b[0m\u001b[0;34m:\u001b[0m\u001b[0;34m\u001b[0m\u001b[0m\n\u001b[0;32m---> 15\u001b[0;31m         \u001b[0;32mraise\u001b[0m \u001b[0mRuntimeError\u001b[0m\u001b[0;34m(\u001b[0m\u001b[0;34m'Unexpected exit code: %d'\u001b[0m \u001b[0;34m%\u001b[0m \u001b[0mget_ipython\u001b[0m\u001b[0;34m(\u001b[0m\u001b[0;34m)\u001b[0m\u001b[0;34m.\u001b[0m\u001b[0muser_ns\u001b[0m\u001b[0;34m[\u001b[0m\u001b[0;34m'_exit_code'\u001b[0m\u001b[0;34m]\u001b[0m\u001b[0;34m)\u001b[0m\u001b[0;34m\u001b[0m\u001b[0m\n\u001b[0m",
         "\u001b[0;31mRuntimeError\u001b[0m: Unexpected exit code: -127"
        ]
       }
      ]
     }
    ],
    "scrolled": true
   },
   "outputs": [],
   "source": [
    "!aws ec2 describe-account-attributes"
   ]
  },
  {
   "cell_type": "markdown",
   "metadata": {
    "lc_cell_meme": {
     "current": "fe211f3a-deff-11e7-9edb-0242ac110002",
     "history": [],
     "next": "fe212048-deff-11e7-9edb-0242ac110002",
     "previous": "fe211e2c-deff-11e7-9edb-0242ac110002"
    }
   },
   "source": [
    "以上でJupyter Notebookから、AWS操作用ツールを実行できるようになります。"
   ]
  },
  {
   "cell_type": "code",
   "execution_count": null,
   "metadata": {
    "lc_cell_meme": {
     "current": "fe212048-deff-11e7-9edb-0242ac110002",
     "history": [],
     "next": null,
     "previous": "fe211f3a-deff-11e7-9edb-0242ac110002"
    }
   },
   "outputs": [],
   "source": []
  }
 ],
 "metadata": {
  "kernelspec": {
   "display_name": "Python 3 (LC_wrapper)",
   "language": "python",
   "name": "python3-wrapper"
  },
  "language_info": {
   "file_extension": ".py",
   "mimetype": "text/x-python",
   "name": "python",
   "nbconvert_exporter": "python",
   "pygments_lexer": "ipython3",
   "version": "3.5.2"
  },
  "lc_notebook_meme": {
   "current": "fe2104d2-deff-11e7-9edb-0242ac110002",
   "history": [],
   "root_cells": [
    "fe210874-deff-11e7-9edb-0242ac110002",
    "fe2109dc-deff-11e7-9edb-0242ac110002",
    "fe210b08-deff-11e7-9edb-0242ac110002",
    "fe210c2a-deff-11e7-9edb-0242ac110002",
    "fe210d42-deff-11e7-9edb-0242ac110002",
    "fe210e50-deff-11e7-9edb-0242ac110002",
    "fe210f68-deff-11e7-9edb-0242ac110002",
    "fe211076-deff-11e7-9edb-0242ac110002",
    "fe211184-deff-11e7-9edb-0242ac110002",
    "fe211292-deff-11e7-9edb-0242ac110002",
    "fe2113a0-deff-11e7-9edb-0242ac110002",
    "fe2114ae-deff-11e7-9edb-0242ac110002",
    "fe2115bc-deff-11e7-9edb-0242ac110002",
    "fe2116c0-deff-11e7-9edb-0242ac110002",
    "fe2117ce-deff-11e7-9edb-0242ac110002",
    "fe2118e6-deff-11e7-9edb-0242ac110002",
    "fe2119f4-deff-11e7-9edb-0242ac110002",
    "fe211b02-deff-11e7-9edb-0242ac110002",
    "fe211c10-deff-11e7-9edb-0242ac110002",
    "fe211d1e-deff-11e7-9edb-0242ac110002",
    "fe211e2c-deff-11e7-9edb-0242ac110002",
    "fe211f3a-deff-11e7-9edb-0242ac110002",
    "fe212048-deff-11e7-9edb-0242ac110002"
   ]
  },
  "toc": {
   "nav_menu": {},
   "number_sections": true,
   "sideBar": true,
   "skip_h1_title": false,
   "title_cell": "Table of Contents",
   "title_sidebar": "Contents",
   "toc_cell": false,
   "toc_position": {},
   "toc_section_display": "block",
   "toc_window_display": true
  }
 },
 "nbformat": 4,
 "nbformat_minor": 2
}
